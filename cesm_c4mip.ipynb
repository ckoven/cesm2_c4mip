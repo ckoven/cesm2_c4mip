{
 "cells": [
  {
   "cell_type": "code",
   "execution_count": 1,
   "metadata": {},
   "outputs": [
    {
     "name": "stdout",
     "output_type": "stream",
     "text": [
      "1.5.0\n"
     ]
    }
   ],
   "source": [
    "import numpy as np\n",
    "import sys\n",
    "sys.path.append('./ckplotlib/')\n",
    "import map_funcs\n",
    "from IPython.display import Image\n",
    "#\n",
    "import netCDF4 as nc4\n",
    "import smoothlib\n",
    "import geog_funcs\n"
   ]
  },
  {
   "cell_type": "markdown",
   "metadata": {},
   "source": [
    "requested fields\n",
    "Variable (analysis);  CMIP6 CMOR name / ESGF archive name\n",
    "- YEAR\n",
    "- ST (degree Celsius); tas - 273.15\n",
    "- CO2 (ppm); co2, It will be similar in all models but likely not exactly the same despite they are all 1pctCO2 runs.\n",
    "- Land-atmosphere CO2 flux (Pg C/yr); netAtmosLandCO2Flux (converted from kg CO2 m-2 s-1 to PgC/yr)\n",
    "- Ocean-atmosphere CO2 flux (Pg C/yr); FGCO2 (converted from kg CO2 m-2 s-1 to PgC/yr) \n",
    "- GPP (Pg C/yr); Gpp\n",
    "- NPP (Pg C/yr); Npp\n",
    "- Heterotrophic respiration, HETRES or Rh (Pg C/yr); rh = rhSoil+rhLitter\n",
    "- Live vegetation biomass, CLIVE or Cv (Pg C); cVeg\n",
    "- Dead biomass on land, CDEAD or Cs  (Pg C); cSoil + cLitter\n"
   ]
  },
  {
   "cell_type": "code",
   "execution_count": 2,
   "metadata": {},
   "outputs": [
    {
     "name": "stderr",
     "output_type": "stream",
     "text": [
      "/Users/cdkoven/miniconda2/lib/python2.7/site-packages/ipykernel_launcher.py:3: UserWarning: WARNING: missing_value not used since it\n",
      "cannot be safely cast to variable data type\n",
      "  This is separate from the ipykernel package so we can avoid doing imports until\n",
      "/Users/cdkoven/miniconda2/lib/python2.7/site-packages/ipykernel_launcher.py:12: UserWarning: WARNING: missing_value not used since it\n",
      "cannot be safely cast to variable data type\n",
      "  if sys.path[0] == '':\n",
      "/Users/cdkoven/miniconda2/lib/python2.7/site-packages/ipykernel_launcher.py:30: UserWarning: WARNING: missing_value not used since it\n",
      "cannot be safely cast to variable data type\n",
      "/Users/cdkoven/miniconda2/lib/python2.7/site-packages/ipykernel_launcher.py:33: UserWarning: WARNING: missing_value not used since it\n",
      "cannot be safely cast to variable data type\n"
     ]
    }
   ],
   "source": [
    "## load the native lnd/atm map grid files\n",
    "area_file = nc4.Dataset('areacella_fx_CESM2_1pctCO2_r1i1p1f1_gn.nc')\n",
    "area = area_file.variables['areacella'][:]\n",
    "lat = area_file.variables['lat'][:]\n",
    "lon = area_file.variables['lon'][:]\n",
    "\n",
    "JM = len(lat)\n",
    "IM = len(lon)\n",
    "\n",
    "## load the native ocean map grid files\n",
    "area_file_ocn_gn = nc4.Dataset('areacello_Ofx_CESM2_1pctCO2_r1i1p1f1_gn.nc')\n",
    "area_ocn_gn = area_file_ocn_gn.variables['areacello'][:]\n",
    "lat_ocn_gn = area_file_ocn_gn.variables['lat'][:]\n",
    "lon_ocn_gn = area_file_ocn_gn.variables['lon'][:]\n",
    "\n",
    "JM_ocn_gn = len(lat_ocn_gn)\n",
    "IM_ocn_gn = len(lon_ocn_gn)\n",
    "\n",
    "## load the modified ocean map grid files\n",
    "area_file_ocn_gr = nc4.Dataset('areacello_Ofx_CESM2_1pctCO2_r1i1p1f1_gr.nc')\n",
    "area_ocn_gr = area_file_ocn_gr.variables['areacello'][:]\n",
    "lat_ocn_gr = area_file_ocn_gr.variables['lat'][:]\n",
    "lon_ocn_gr = area_file_ocn_gr.variables['lon'][:]\n",
    "\n",
    "JM_ocn_gr = len(lat_ocn_gr)\n",
    "IM_ocn_gr = len(lon_ocn_gr)\n",
    "\n",
    "## and the land and ice grids\n",
    "sftlf_file = nc4.Dataset('sftlf_fx_CESM2_1pctCO2_r1i1p1f1_gn.nc')\n",
    "sftlf = sftlf_file.variables['sftlf'][:]\n",
    "\n",
    "sftgif_file = nc4.Dataset('sftgif_fx_CESM2_1pctCO2_r1i1p1f1_gn.nc')\n",
    "sftgif = sftgif_file.variables['sftgif'][:]\n",
    "\n",
    "area_landonly = area * (sftlf/100.) * (1. - sftgif/100.)\n",
    "\n"
   ]
  },
  {
   "cell_type": "code",
   "execution_count": 3,
   "metadata": {},
   "outputs": [
    {
     "name": "stderr",
     "output_type": "stream",
     "text": [
      "/Users/cdkoven/miniconda2/lib/python2.7/site-packages/ipykernel_launcher.py:18: UserWarning: WARNING: missing_value not used since it\n",
      "cannot be safely cast to variable data type\n",
      "/Users/cdkoven/miniconda2/lib/python2.7/site-packages/ipykernel_launcher.py:22: UserWarning: WARNING: missing_value not used since it\n",
      "cannot be safely cast to variable data type\n"
     ]
    }
   ],
   "source": [
    "tasfilenames = [\n",
    "['tas_Amon_CESM2_1pctCO2-bgc_r1i1p1f1_gn_000101-005012.nc',\n",
    "'tas_Amon_CESM2_1pctCO2-bgc_r1i1p1f1_gn_005101-010012.nc',\n",
    "'tas_Amon_CESM2_1pctCO2-bgc_r1i1p1f1_gn_010101-015012.nc'],\n",
    "['tas_Amon_CESM2_1pctCO2_r1i1p1f1_gn_000101-005012.nc',\n",
    "'tas_Amon_CESM2_1pctCO2_r1i1p1f1_gn_005101-010012.nc',\n",
    "'tas_Amon_CESM2_1pctCO2_r1i1p1f1_gn_010101-015012.nc']\n",
    "]\n",
    "\n",
    "tasfiles_bgc=[]\n",
    "for i in range(len(tasfilenames[0])):\n",
    "    tasfiles_bgc.append(nc4.Dataset(tasfilenames[0][i]))\n",
    "\n",
    "tasfiles_ful=[]\n",
    "for i in range(len(tasfilenames[1])):\n",
    "    tasfiles_ful.append(nc4.Dataset(tasfilenames[1][i]))\n",
    "\n",
    "tas_bgc = np.ma.row_stack((tasfiles_bgc[0].variables['tas'][:],tasfiles_bgc[1].variables['tas'][:],tasfiles_bgc[2].variables['tas'][:]))- 273.15\n",
    "tas_bgc_annual = smoothlib.monthly_to_annual(tas_bgc)\n",
    "tas_bgc_global_annual = geog_funcs.area_average(tas_bgc_annual, lat, lon, area=area)\n",
    "\n",
    "tas_ful = np.ma.row_stack((tasfiles_ful[0].variables['tas'][:],tasfiles_ful[1].variables['tas'][:],tasfiles_ful[2].variables['tas'][:]))- 273.15\n",
    "tas_ful_annual = smoothlib.monthly_to_annual(tas_ful)\n",
    "tas_ful_global_annual = geog_funcs.area_average(tas_ful_annual, lat, lon, area=area)\n",
    "\n",
    "map_funcs.xyplot(np.arange(len(tas_ful_global_annual)), np.row_stack((tas_bgc_global_annual,tas_ful_global_annual)), file='c4mip_tas_global', ytitle='tas', xtitle='time', showjupyter=False, colors=['blue','red'], labels=['BGC','FULL'])"
   ]
  },
  {
   "cell_type": "code",
   "execution_count": 4,
   "metadata": {},
   "outputs": [
    {
     "name": "stderr",
     "output_type": "stream",
     "text": [
      "/Users/cdkoven/miniconda2/lib/python2.7/site-packages/ipykernel_launcher.py:18: UserWarning: WARNING: missing_value not used since it\n",
      "cannot be safely cast to variable data type\n",
      "/Users/cdkoven/miniconda2/lib/python2.7/site-packages/ipykernel_launcher.py:22: UserWarning: WARNING: missing_value not used since it\n",
      "cannot be safely cast to variable data type\n"
     ]
    }
   ],
   "source": [
    "co2filenames = [\n",
    "['co2_Amon_CESM2_1pctCO2_r1i1p1f1_gn_000101-005012.nc',\n",
    "'co2_Amon_CESM2_1pctCO2_r1i1p1f1_gn_005101-010012.nc',\n",
    "'co2_Amon_CESM2_1pctCO2_r1i1p1f1_gn_010101-015012.nc'],\n",
    "['co2_Amon_CESM2_1pctCO2_r1i1p1f1_gn_000101-005012.nc',\n",
    "'co2_Amon_CESM2_1pctCO2_r1i1p1f1_gn_005101-010012.nc',\n",
    "'co2_Amon_CESM2_1pctCO2_r1i1p1f1_gn_010101-015012.nc']\n",
    "]\n",
    "\n",
    "co2files_bgc=[]\n",
    "for i in range(len(co2filenames[0])):\n",
    "    co2files_bgc.append(nc4.Dataset(co2filenames[0][i]))\n",
    "\n",
    "co2files_ful=[]\n",
    "for i in range(len(co2filenames[1])):\n",
    "    co2files_ful.append(nc4.Dataset(co2filenames[1][i]))\n",
    "\n",
    "co2_bgc = np.ma.row_stack((co2files_bgc[0].variables['co2'][:,0,:,:],co2files_bgc[1].variables['co2'][:,0,:,:],co2files_bgc[2].variables['co2'][:,0,:,:])) * 1e6\n",
    "co2_bgc_annual = smoothlib.monthly_to_annual(co2_bgc)\n",
    "co2_bgc_global_annual = geog_funcs.area_average(co2_bgc_annual, lat, lon, area=area)\n",
    "\n",
    "co2_ful = np.ma.row_stack((co2files_ful[0].variables['co2'][:,0,:,:],co2files_ful[1].variables['co2'][:,0,:,:],co2files_ful[2].variables['co2'][:,0,:,:]))  * 1e6\n",
    "co2_ful_annual = smoothlib.monthly_to_annual(co2_ful)\n",
    "co2_ful_global_annual = geog_funcs.area_average(co2_ful_annual, lat, lon, area=area)\n",
    "\n",
    "map_funcs.xyplot(np.arange(len(co2_ful_global_annual)), np.row_stack((co2_bgc_global_annual,co2_ful_global_annual)), file='c4mip_co2_global', ytitle='co2', xtitle='time', showjupyter=False, colors=['blue','red'], labels=['BGC','FULL'])"
   ]
  },
  {
   "cell_type": "code",
   "execution_count": 5,
   "metadata": {},
   "outputs": [
    {
     "name": "stderr",
     "output_type": "stream",
     "text": [
      "/Users/cdkoven/miniconda2/lib/python2.7/site-packages/ipykernel_launcher.py:18: UserWarning: WARNING: missing_value not used since it\n",
      "cannot be safely cast to variable data type\n",
      "/Users/cdkoven/miniconda2/lib/python2.7/site-packages/ipykernel_launcher.py:22: UserWarning: WARNING: missing_value not used since it\n",
      "cannot be safely cast to variable data type\n"
     ]
    }
   ],
   "source": [
    "atm2lndfilenames = [\n",
    "['netAtmosLandCO2Flux_Emon_CESM2_1pctCO2-bgc_r1i1p1f1_gn_000101-005012.nc',\n",
    "'netAtmosLandCO2Flux_Emon_CESM2_1pctCO2-bgc_r1i1p1f1_gn_005101-010012.nc',\n",
    "'netAtmosLandCO2Flux_Emon_CESM2_1pctCO2-bgc_r1i1p1f1_gn_010101-015012.nc'],\n",
    "['netAtmosLandCO2Flux_Emon_CESM2_1pctCO2_r1i1p1f1_gn_000101-005012.nc',\n",
    "'netAtmosLandCO2Flux_Emon_CESM2_1pctCO2_r1i1p1f1_gn_005101-010012.nc',\n",
    "'netAtmosLandCO2Flux_Emon_CESM2_1pctCO2_r1i1p1f1_gn_010101-015012.nc']\n",
    "]\n",
    "\n",
    "atm2lndfiles_bgc=[]\n",
    "for i in range(len(atm2lndfilenames[0])):\n",
    "    atm2lndfiles_bgc.append(nc4.Dataset(atm2lndfilenames[0][i]))\n",
    "\n",
    "atm2lndfiles_ful=[]\n",
    "for i in range(len(atm2lndfilenames[1])):\n",
    "    atm2lndfiles_ful.append(nc4.Dataset(atm2lndfilenames[1][i]))\n",
    "\n",
    "atm2lnd_bgc = np.ma.row_stack((atm2lndfiles_bgc[0].variables['netAtmosLandCO2Flux'][:],atm2lndfiles_bgc[1].variables['netAtmosLandCO2Flux'][:],atm2lndfiles_bgc[2].variables['netAtmosLandCO2Flux'][:]))\n",
    "atm2lnd_bgc_annual = smoothlib.monthly_to_annual(atm2lnd_bgc)\n",
    "atm2lnd_bgc_global_annual = geog_funcs.area_integrate(atm2lnd_bgc_annual, lat, lon, area=area)  * 86400.*365. / 1e12\n",
    "\n",
    "atm2lnd_ful = np.ma.row_stack((atm2lndfiles_ful[0].variables['netAtmosLandCO2Flux'][:],atm2lndfiles_ful[1].variables['netAtmosLandCO2Flux'][:],atm2lndfiles_ful[2].variables['netAtmosLandCO2Flux'][:]))\n",
    "atm2lnd_ful_annual = smoothlib.monthly_to_annual(atm2lnd_ful)\n",
    "atm2lnd_ful_global_annual = geog_funcs.area_integrate(atm2lnd_ful_annual, lat, lon, area=area) * 86400.*365. / 1e12\n",
    "\n",
    "map_funcs.xyplot(np.arange(len(atm2lnd_ful_global_annual)), np.row_stack((atm2lnd_bgc_global_annual,atm2lnd_ful_global_annual)), file='c4mip_atm2lnd_global', ytitle='atm2lnd', xtitle='time', showjupyter=False, colors=['blue','red'], labels=['BGC','FULL'])\n",
    "\n",
    "\n"
   ]
  },
  {
   "cell_type": "code",
   "execution_count": 6,
   "metadata": {},
   "outputs": [
    {
     "name": "stderr",
     "output_type": "stream",
     "text": [
      "/Users/cdkoven/miniconda2/lib/python2.7/site-packages/ipykernel_launcher.py:18: UserWarning: WARNING: missing_value not used since it\n",
      "cannot be safely cast to variable data type\n",
      "/Users/cdkoven/miniconda2/lib/python2.7/site-packages/ipykernel_launcher.py:22: UserWarning: WARNING: missing_value not used since it\n",
      "cannot be safely cast to variable data type\n"
     ]
    }
   ],
   "source": [
    "atm2ocn_grfilenames = [\n",
    "['fgco2_Omon_CESM2_1pctCO2-bgc_r1i1p1f1_gr_000101-005012.nc',\n",
    "'fgco2_Omon_CESM2_1pctCO2-bgc_r1i1p1f1_gr_005101-010012.nc',\n",
    "'fgco2_Omon_CESM2_1pctCO2-bgc_r1i1p1f1_gr_010101-015012.nc'],\n",
    "['fgco2_Omon_CESM2_1pctCO2_r1i1p1f1_gr_000101-005012.nc',\n",
    "'fgco2_Omon_CESM2_1pctCO2_r1i1p1f1_gr_005101-010012.nc',\n",
    "'fgco2_Omon_CESM2_1pctCO2_r1i1p1f1_gr_010101-015012.nc']\n",
    "]\n",
    "\n",
    "atm2ocn_grfiles_bgc=[]\n",
    "for i in range(len(atm2ocn_grfilenames[0])):\n",
    "    atm2ocn_grfiles_bgc.append(nc4.Dataset(atm2ocn_grfilenames[0][i]))\n",
    "\n",
    "atm2ocn_grfiles_ful=[]\n",
    "for i in range(len(atm2ocn_grfilenames[1])):\n",
    "    atm2ocn_grfiles_ful.append(nc4.Dataset(atm2ocn_grfilenames[1][i]))\n",
    "\n",
    "atm2ocn_gr_bgc = np.ma.row_stack((atm2ocn_grfiles_bgc[0].variables['fgco2'][:],atm2ocn_grfiles_bgc[1].variables['fgco2'][:],atm2ocn_grfiles_bgc[2].variables['fgco2'][:]))\n",
    "atm2ocn_gr_bgc_annual = smoothlib.monthly_to_annual(atm2ocn_gr_bgc)\n",
    "atm2ocn_gr_bgc_global_annual = geog_funcs.area_integrate(atm2ocn_gr_bgc_annual, lat_ocn_gr, lon_ocn_gr, area=area_ocn_gr)  * 86400.*365. / 1e12\n",
    "\n",
    "atm2ocn_gr_ful = np.ma.row_stack((atm2ocn_grfiles_ful[0].variables['fgco2'][:],atm2ocn_grfiles_ful[1].variables['fgco2'][:],atm2ocn_grfiles_ful[2].variables['fgco2'][:]))\n",
    "atm2ocn_gr_ful_annual = smoothlib.monthly_to_annual(atm2ocn_gr_ful)\n",
    "atm2ocn_gr_ful_global_annual = geog_funcs.area_integrate(atm2ocn_gr_ful_annual, lat_ocn_gr, lon_ocn_gr, area=area_ocn_gr) * 86400.*365. / 1e12\n",
    "\n",
    "map_funcs.xyplot(np.arange(len(atm2ocn_gr_ful_global_annual)), np.row_stack((atm2ocn_gr_bgc_global_annual,atm2ocn_gr_ful_global_annual)), file='c4mip_atm2ocn_gr_global', ytitle='atm2ocn_gr', xtitle='time', showjupyter=False, colors=['blue','red'], labels=['BGC','FULL'])\n",
    "\n",
    "\n",
    "\n"
   ]
  },
  {
   "cell_type": "code",
   "execution_count": 7,
   "metadata": {},
   "outputs": [
    {
     "name": "stderr",
     "output_type": "stream",
     "text": [
      "/Users/cdkoven/miniconda2/lib/python2.7/site-packages/ipykernel_launcher.py:18: UserWarning: WARNING: missing_value not used since it\n",
      "cannot be safely cast to variable data type\n",
      "/Users/cdkoven/miniconda2/lib/python2.7/site-packages/ipykernel_launcher.py:22: UserWarning: WARNING: missing_value not used since it\n",
      "cannot be safely cast to variable data type\n"
     ]
    }
   ],
   "source": [
    "atm2ocn_gnfilenames = [\n",
    "['fgco2_Omon_CESM2_1pctCO2-bgc_r1i1p1f1_gn_000101-005012.nc',\n",
    "'fgco2_Omon_CESM2_1pctCO2-bgc_r1i1p1f1_gn_005101-010012.nc',\n",
    "'fgco2_Omon_CESM2_1pctCO2-bgc_r1i1p1f1_gn_010101-015012.nc'],\n",
    "['fgco2_Omon_CESM2_1pctCO2_r1i1p1f1_gn_000101-005012.nc',\n",
    "'fgco2_Omon_CESM2_1pctCO2_r1i1p1f1_gn_005101-010012.nc',\n",
    "'fgco2_Omon_CESM2_1pctCO2_r1i1p1f1_gn_010101-015012.nc']\n",
    "]\n",
    "\n",
    "atm2ocn_gnfiles_bgc=[]\n",
    "for i in range(len(atm2ocn_gnfilenames[0])):\n",
    "    atm2ocn_gnfiles_bgc.append(nc4.Dataset(atm2ocn_gnfilenames[0][i]))\n",
    "\n",
    "atm2ocn_gnfiles_ful=[]\n",
    "for i in range(len(atm2ocn_gnfilenames[1])):\n",
    "    atm2ocn_gnfiles_ful.append(nc4.Dataset(atm2ocn_gnfilenames[1][i]))\n",
    "\n",
    "atm2ocn_gn_bgc = np.ma.row_stack((atm2ocn_gnfiles_bgc[0].variables['fgco2'][:],atm2ocn_gnfiles_bgc[1].variables['fgco2'][:],atm2ocn_gnfiles_bgc[2].variables['fgco2'][:]))\n",
    "atm2ocn_gn_bgc_annual = smoothlib.monthly_to_annual(atm2ocn_gn_bgc)\n",
    "atm2ocn_gn_bgc_global_annual = geog_funcs.area_integrate(atm2ocn_gn_bgc_annual, None, None, area=area_ocn_gn)  * 86400.*365. / 1e12\n",
    "\n",
    "atm2ocn_gn_ful = np.ma.row_stack((atm2ocn_gnfiles_ful[0].variables['fgco2'][:],atm2ocn_gnfiles_ful[1].variables['fgco2'][:],atm2ocn_gnfiles_ful[2].variables['fgco2'][:]))\n",
    "atm2ocn_gn_ful_annual = smoothlib.monthly_to_annual(atm2ocn_gn_ful)\n",
    "atm2ocn_gn_ful_global_annual = geog_funcs.area_integrate(atm2ocn_gn_ful_annual, None, None, area=area_ocn_gn) * 86400.*365. / 1e12\n",
    "\n",
    "map_funcs.xyplot(np.arange(len(atm2ocn_gn_ful_global_annual)), np.row_stack((atm2ocn_gn_bgc_global_annual,atm2ocn_gn_ful_global_annual)), file='c4mip_atm2ocn_gn_global', ytitle='atm2ocn_gn', xtitle='time', showjupyter=False, colors=['blue','red'], labels=['BGC','FULL'])\n",
    "\n",
    "\n",
    "\n"
   ]
  },
  {
   "cell_type": "code",
   "execution_count": 8,
   "metadata": {},
   "outputs": [
    {
     "name": "stderr",
     "output_type": "stream",
     "text": [
      "/Users/cdkoven/miniconda2/lib/python2.7/site-packages/ipykernel_launcher.py:18: UserWarning: WARNING: missing_value not used since it\n",
      "cannot be safely cast to variable data type\n",
      "/Users/cdkoven/miniconda2/lib/python2.7/site-packages/ipykernel_launcher.py:22: UserWarning: WARNING: missing_value not used since it\n",
      "cannot be safely cast to variable data type\n"
     ]
    }
   ],
   "source": [
    "gppfilenames = [\n",
    "['gpp_Lmon_CESM2_1pctCO2-bgc_r1i1p1f1_gn_000101-005012.nc',\n",
    "'gpp_Lmon_CESM2_1pctCO2-bgc_r1i1p1f1_gn_005101-010012.nc',\n",
    "'gpp_Lmon_CESM2_1pctCO2-bgc_r1i1p1f1_gn_010101-015012.nc'],\n",
    "['gpp_Lmon_CESM2_1pctCO2_r1i1p1f1_gn_000101-005012.nc',\n",
    "'gpp_Lmon_CESM2_1pctCO2_r1i1p1f1_gn_005101-010012.nc',\n",
    "'gpp_Lmon_CESM2_1pctCO2_r1i1p1f1_gn_010101-015012.nc']\n",
    "]\n",
    "\n",
    "gppfiles_bgc=[]\n",
    "for i in range(len(gppfilenames[0])):\n",
    "    gppfiles_bgc.append(nc4.Dataset(gppfilenames[0][i]))\n",
    "\n",
    "gppfiles_ful=[]\n",
    "for i in range(len(gppfilenames[1])):\n",
    "    gppfiles_ful.append(nc4.Dataset(gppfilenames[1][i]))\n",
    "\n",
    "gpp_bgc = np.ma.row_stack((gppfiles_bgc[0].variables['gpp'][:],gppfiles_bgc[1].variables['gpp'][:],gppfiles_bgc[2].variables['gpp'][:]))\n",
    "gpp_bgc_annual = smoothlib.monthly_to_annual(gpp_bgc)\n",
    "gpp_bgc_global_annual = geog_funcs.area_integrate(gpp_bgc_annual, lat, lon, area=area_landonly)  * 86400.*365. / 1e12\n",
    "\n",
    "gpp_ful = np.ma.row_stack((gppfiles_ful[0].variables['gpp'][:],gppfiles_ful[1].variables['gpp'][:],gppfiles_ful[2].variables['gpp'][:]))\n",
    "gpp_ful_annual = smoothlib.monthly_to_annual(gpp_ful)\n",
    "gpp_ful_global_annual = geog_funcs.area_integrate(gpp_ful_annual, lat, lon, area=area_landonly) * 86400.*365. / 1e12\n",
    "\n",
    "map_funcs.xyplot(np.arange(len(gpp_ful_global_annual)), np.row_stack((gpp_bgc_global_annual,gpp_ful_global_annual)), file='c4mip_gpp_global', ytitle='gpp', xtitle='time', showjupyter=False, colors=['blue','red'], labels=['BGC','FULL'])\n",
    "\n",
    "\n",
    "\n"
   ]
  },
  {
   "cell_type": "code",
   "execution_count": 9,
   "metadata": {},
   "outputs": [
    {
     "name": "stderr",
     "output_type": "stream",
     "text": [
      "/Users/cdkoven/miniconda2/lib/python2.7/site-packages/ipykernel_launcher.py:18: UserWarning: WARNING: missing_value not used since it\n",
      "cannot be safely cast to variable data type\n",
      "/Users/cdkoven/miniconda2/lib/python2.7/site-packages/ipykernel_launcher.py:22: UserWarning: WARNING: missing_value not used since it\n",
      "cannot be safely cast to variable data type\n"
     ]
    }
   ],
   "source": [
    "nppfilenames = [\n",
    "['npp_Lmon_CESM2_1pctCO2-bgc_r1i1p1f1_gn_000101-005012.nc',\n",
    "'npp_Lmon_CESM2_1pctCO2-bgc_r1i1p1f1_gn_005101-010012.nc',\n",
    "'npp_Lmon_CESM2_1pctCO2-bgc_r1i1p1f1_gn_010101-015012.nc'],\n",
    "['npp_Lmon_CESM2_1pctCO2_r1i1p1f1_gn_000101-005012.nc',\n",
    "'npp_Lmon_CESM2_1pctCO2_r1i1p1f1_gn_005101-010012.nc',\n",
    "'npp_Lmon_CESM2_1pctCO2_r1i1p1f1_gn_010101-015012.nc']\n",
    "]\n",
    "\n",
    "nppfiles_bgc=[]\n",
    "for i in range(len(nppfilenames[0])):\n",
    "    nppfiles_bgc.append(nc4.Dataset(nppfilenames[0][i]))\n",
    "\n",
    "nppfiles_ful=[]\n",
    "for i in range(len(nppfilenames[1])):\n",
    "    nppfiles_ful.append(nc4.Dataset(nppfilenames[1][i]))\n",
    "\n",
    "npp_bgc = np.ma.row_stack((nppfiles_bgc[0].variables['npp'][:],nppfiles_bgc[1].variables['npp'][:],nppfiles_bgc[2].variables['npp'][:]))\n",
    "npp_bgc_annual = smoothlib.monthly_to_annual(npp_bgc)\n",
    "npp_bgc_global_annual = geog_funcs.area_integrate(npp_bgc_annual, lat, lon, area=area_landonly)  * 86400.*365. / 1e12\n",
    "\n",
    "npp_ful = np.ma.row_stack((nppfiles_ful[0].variables['npp'][:],nppfiles_ful[1].variables['npp'][:],nppfiles_ful[2].variables['npp'][:]))\n",
    "npp_ful_annual = smoothlib.monthly_to_annual(npp_ful)\n",
    "npp_ful_global_annual = geog_funcs.area_integrate(npp_ful_annual, lat, lon, area=area_landonly) * 86400.*365. / 1e12\n",
    "\n",
    "map_funcs.xyplot(np.arange(len(npp_ful_global_annual)), np.row_stack((npp_bgc_global_annual,npp_ful_global_annual)), file='c4mip_npp_global', ytitle='npp', xtitle='time', showjupyter=False, colors=['blue','red'], labels=['BGC','FULL'])\n",
    "\n",
    "\n",
    "\n"
   ]
  },
  {
   "cell_type": "code",
   "execution_count": 10,
   "metadata": {},
   "outputs": [
    {
     "name": "stderr",
     "output_type": "stream",
     "text": [
      "/Users/cdkoven/miniconda2/lib/python2.7/site-packages/ipykernel_launcher.py:18: UserWarning: WARNING: missing_value not used since it\n",
      "cannot be safely cast to variable data type\n",
      "/Users/cdkoven/miniconda2/lib/python2.7/site-packages/ipykernel_launcher.py:22: UserWarning: WARNING: missing_value not used since it\n",
      "cannot be safely cast to variable data type\n"
     ]
    }
   ],
   "source": [
    "cVegfilenames = [\n",
    "['cVeg_Lmon_CESM2_1pctCO2-bgc_r1i1p1f1_gn_000101-005012.nc',\n",
    "'cVeg_Lmon_CESM2_1pctCO2-bgc_r1i1p1f1_gn_005101-010012.nc',\n",
    "'cVeg_Lmon_CESM2_1pctCO2-bgc_r1i1p1f1_gn_010101-015012.nc'],\n",
    "['cVeg_Lmon_CESM2_1pctCO2_r1i1p1f1_gn_000101-005012.nc',\n",
    "'cVeg_Lmon_CESM2_1pctCO2_r1i1p1f1_gn_005101-010012.nc',\n",
    "'cVeg_Lmon_CESM2_1pctCO2_r1i1p1f1_gn_010101-015012.nc']\n",
    "]\n",
    "\n",
    "cVegfiles_bgc=[]\n",
    "for i in range(len(cVegfilenames[0])):\n",
    "    cVegfiles_bgc.append(nc4.Dataset(cVegfilenames[0][i]))\n",
    "\n",
    "cVegfiles_ful=[]\n",
    "for i in range(len(cVegfilenames[1])):\n",
    "    cVegfiles_ful.append(nc4.Dataset(cVegfilenames[1][i]))\n",
    "\n",
    "cVeg_bgc = np.ma.row_stack((cVegfiles_bgc[0].variables['cVeg'][:],cVegfiles_bgc[1].variables['cVeg'][:],cVegfiles_bgc[2].variables['cVeg'][:]))\n",
    "cVeg_bgc_annual = smoothlib.monthly_to_annual(cVeg_bgc)\n",
    "cVeg_bgc_global_annual = geog_funcs.area_integrate(cVeg_bgc_annual, lat, lon, area=area_landonly)  / 1e12\n",
    "\n",
    "cVeg_ful = np.ma.row_stack((cVegfiles_ful[0].variables['cVeg'][:],cVegfiles_ful[1].variables['cVeg'][:],cVegfiles_ful[2].variables['cVeg'][:]))\n",
    "cVeg_ful_annual = smoothlib.monthly_to_annual(cVeg_ful)\n",
    "cVeg_ful_global_annual = geog_funcs.area_integrate(cVeg_ful_annual, lat, lon, area=area_landonly) / 1e12\n",
    "\n",
    "map_funcs.xyplot(np.arange(len(cVeg_ful_global_annual)), np.row_stack((cVeg_bgc_global_annual,cVeg_ful_global_annual)), file='c4mip_cVeg_global', ytitle='cVeg', xtitle='time', showjupyter=False, colors=['blue','red'], labels=['BGC','FULL'])\n",
    "\n",
    "\n",
    "\n"
   ]
  },
  {
   "cell_type": "code",
   "execution_count": 11,
   "metadata": {},
   "outputs": [
    {
     "name": "stderr",
     "output_type": "stream",
     "text": [
      "/Users/cdkoven/miniconda2/lib/python2.7/site-packages/ipykernel_launcher.py:18: UserWarning: WARNING: missing_value not used since it\n",
      "cannot be safely cast to variable data type\n",
      "/Users/cdkoven/miniconda2/lib/python2.7/site-packages/ipykernel_launcher.py:22: UserWarning: WARNING: missing_value not used since it\n",
      "cannot be safely cast to variable data type\n"
     ]
    }
   ],
   "source": [
    "cSoilfilenames = [\n",
    "['cSoil_Emon_CESM2_1pctCO2-bgc_r1i1p1f1_gn_000101-005012.nc',\n",
    "'cSoil_Emon_CESM2_1pctCO2-bgc_r1i1p1f1_gn_005101-010012.nc',\n",
    "'cSoil_Emon_CESM2_1pctCO2-bgc_r1i1p1f1_gn_010101-015012.nc'],\n",
    "['cSoil_Emon_CESM2_1pctCO2_r1i1p1f1_gn_000101-005012.nc',\n",
    "'cSoil_Emon_CESM2_1pctCO2_r1i1p1f1_gn_005101-010012.nc',\n",
    "'cSoil_Emon_CESM2_1pctCO2_r1i1p1f1_gn_010101-015012.nc']\n",
    "]\n",
    "\n",
    "cSoilfiles_bgc=[]\n",
    "for i in range(len(cSoilfilenames[0])):\n",
    "    cSoilfiles_bgc.append(nc4.Dataset(cSoilfilenames[0][i]))\n",
    "\n",
    "cSoilfiles_ful=[]\n",
    "for i in range(len(cSoilfilenames[1])):\n",
    "    cSoilfiles_ful.append(nc4.Dataset(cSoilfilenames[1][i]))\n",
    "\n",
    "cSoil_bgc = np.ma.row_stack((cSoilfiles_bgc[0].variables['cSoil'][:],cSoilfiles_bgc[1].variables['cSoil'][:],cSoilfiles_bgc[2].variables['cSoil'][:]))\n",
    "cSoil_bgc_annual = smoothlib.monthly_to_annual(cSoil_bgc)\n",
    "cSoil_bgc_global_annual = geog_funcs.area_integrate(cSoil_bgc_annual, lat, lon, area=area_landonly)  / 1e12\n",
    "\n",
    "cSoil_ful = np.ma.row_stack((cSoilfiles_ful[0].variables['cSoil'][:],cSoilfiles_ful[1].variables['cSoil'][:],cSoilfiles_ful[2].variables['cSoil'][:]))\n",
    "cSoil_ful_annual = smoothlib.monthly_to_annual(cSoil_ful)\n",
    "cSoil_ful_global_annual = geog_funcs.area_integrate(cSoil_ful_annual, lat, lon, area=area_landonly) / 1e12\n",
    "\n",
    "map_funcs.xyplot(np.arange(len(cSoil_ful_global_annual)), np.row_stack((cSoil_bgc_global_annual,cSoil_ful_global_annual)), file='c4mip_cSoil_global', ytitle='cSoil', xtitle='time', showjupyter=False, colors=['blue','red'], labels=['BGC','FULL'])\n",
    "\n",
    "\n",
    "\n"
   ]
  },
  {
   "cell_type": "code",
   "execution_count": 28,
   "metadata": {},
   "outputs": [],
   "source": [
    "data_out_bgc = np.column_stack((np.arange(150),\n",
    "                                tas_bgc_global_annual,\n",
    "                                co2_bgc_global_annual,\n",
    "                                atm2lnd_bgc_global_annual,\n",
    "                                atm2ocn_gn_bgc_global_annual,\n",
    "                                gpp_bgc_global_annual,\n",
    "                                npp_bgc_global_annual,\n",
    "                                cVeg_bgc_global_annual,\n",
    "                                cSoil_bgc_global_annual\n",
    "                                ))\n",
    "\n",
    "column_names = 'YEAR, ST, CO2, LA_CO2_FLUX, OA_CO2_FLUX, GPP, NPP, CLIVE, CDEAD'"
   ]
  },
  {
   "cell_type": "code",
   "execution_count": 29,
   "metadata": {},
   "outputs": [],
   "source": [
    "np.savetxt('data_out_bgc.csv', data_out_bgc, header=column_names, delimiter=',')"
   ]
  },
  {
   "cell_type": "code",
   "execution_count": null,
   "metadata": {},
   "outputs": [],
   "source": []
  }
 ],
 "metadata": {
  "kernelspec": {
   "display_name": "Python 2",
   "language": "python",
   "name": "python2"
  },
  "language_info": {
   "codemirror_mode": {
    "name": "ipython",
    "version": 2
   },
   "file_extension": ".py",
   "mimetype": "text/x-python",
   "name": "python",
   "nbconvert_exporter": "python",
   "pygments_lexer": "ipython2",
   "version": "2.7.14"
  }
 },
 "nbformat": 4,
 "nbformat_minor": 2
}
